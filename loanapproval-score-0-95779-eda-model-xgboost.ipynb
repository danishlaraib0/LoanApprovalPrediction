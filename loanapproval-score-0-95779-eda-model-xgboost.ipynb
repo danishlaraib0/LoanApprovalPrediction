{
 "cells": [
  {
   "cell_type": "code",
   "execution_count": 1,
   "id": "1b8bb80d",
   "metadata": {
    "_cell_guid": "b1076dfc-b9ad-4769-8c92-a6c4dae69d19",
    "_uuid": "8f2839f25d086af736a60e9eeb907d3b93b6e0e5",
    "execution": {
     "iopub.execute_input": "2024-10-02T19:32:47.813167Z",
     "iopub.status.busy": "2024-10-02T19:32:47.812711Z",
     "iopub.status.idle": "2024-10-02T19:32:48.909914Z",
     "shell.execute_reply": "2024-10-02T19:32:48.908582Z"
    },
    "papermill": {
     "duration": 1.117687,
     "end_time": "2024-10-02T19:32:48.913692",
     "exception": false,
     "start_time": "2024-10-02T19:32:47.796005",
     "status": "completed"
    },
    "tags": []
   },
   "outputs": [
    {
     "name": "stdout",
     "output_type": "stream",
     "text": [
      "/kaggle/input/playground-series-s4e10/sample_submission.csv\n",
      "/kaggle/input/playground-series-s4e10/train.csv\n",
      "/kaggle/input/playground-series-s4e10/test.csv\n"
     ]
    }
   ],
   "source": [
    "# This Python 3 environment comes with many helpful analytics libraries installed\n",
    "# It is defined by the kaggle/python Docker image: https://github.com/kaggle/docker-python\n",
    "# For example, here's several helpful packages to load\n",
    "\n",
    "import numpy as np # linear algebra\n",
    "import pandas as pd # data processing, CSV file I/O (e.g. pd.read_csv)\n",
    "\n",
    "# Input data files are available in the read-only \"../input/\" directory\n",
    "# For example, running this (by clicking run or pressing Shift+Enter) will list all files under the input directory\n",
    "\n",
    "import os\n",
    "for dirname, _, filenames in os.walk('/kaggle/input'):\n",
    "    for filename in filenames:\n",
    "        print(os.path.join(dirname, filename))\n",
    "\n",
    "# You can write up to 20GB to the current directory (/kaggle/working/) that gets preserved as output when you create a version using \"Save & Run All\" \n",
    "# You can also write temporary files to /kaggle/temp/, but they won't be saved outside of the current session"
   ]
  },
  {
   "cell_type": "code",
   "execution_count": 2,
   "id": "cd35c2a4",
   "metadata": {
    "execution": {
     "iopub.execute_input": "2024-10-02T19:32:48.946199Z",
     "iopub.status.busy": "2024-10-02T19:32:48.945522Z",
     "iopub.status.idle": "2024-10-02T19:32:50.911413Z",
     "shell.execute_reply": "2024-10-02T19:32:50.910309Z"
    },
    "papermill": {
     "duration": 1.983704,
     "end_time": "2024-10-02T19:32:50.914271",
     "exception": false,
     "start_time": "2024-10-02T19:32:48.930567",
     "status": "completed"
    },
    "tags": []
   },
   "outputs": [],
   "source": [
    "import pandas as pd\n",
    "import numpy as np\n",
    "import matplotlib.pyplot as plt\n",
    "import seaborn as sns\n"
   ]
  },
  {
   "cell_type": "code",
   "execution_count": 3,
   "id": "b3593d4f",
   "metadata": {
    "execution": {
     "iopub.execute_input": "2024-10-02T19:32:50.944473Z",
     "iopub.status.busy": "2024-10-02T19:32:50.943904Z",
     "iopub.status.idle": "2024-10-02T19:32:51.229686Z",
     "shell.execute_reply": "2024-10-02T19:32:51.228392Z"
    },
    "papermill": {
     "duration": 0.30416,
     "end_time": "2024-10-02T19:32:51.232409",
     "exception": false,
     "start_time": "2024-10-02T19:32:50.928249",
     "status": "completed"
    },
    "tags": []
   },
   "outputs": [],
   "source": [
    "df_train=pd.read_csv(\"/kaggle/input/playground-series-s4e10/train.csv\")\n",
    "df_test=pd.read_csv(\"/kaggle/input/playground-series-s4e10/test.csv\")"
   ]
  },
  {
   "cell_type": "markdown",
   "id": "e826cbf1",
   "metadata": {
    "papermill": {
     "duration": 0.012939,
     "end_time": "2024-10-02T19:32:51.258715",
     "exception": false,
     "start_time": "2024-10-02T19:32:51.245776",
     "status": "completed"
    },
    "tags": []
   },
   "source": [
    "EDA"
   ]
  },
  {
   "cell_type": "code",
   "execution_count": 4,
   "id": "5f9e86b0",
   "metadata": {
    "execution": {
     "iopub.execute_input": "2024-10-02T19:32:51.287123Z",
     "iopub.status.busy": "2024-10-02T19:32:51.286676Z",
     "iopub.status.idle": "2024-10-02T19:32:51.355817Z",
     "shell.execute_reply": "2024-10-02T19:32:51.353917Z"
    },
    "papermill": {
     "duration": 0.086551,
     "end_time": "2024-10-02T19:32:51.358615",
     "exception": false,
     "start_time": "2024-10-02T19:32:51.272064",
     "status": "completed"
    },
    "tags": []
   },
   "outputs": [
    {
     "name": "stdout",
     "output_type": "stream",
     "text": [
      "   id  person_age  person_income person_home_ownership  person_emp_length  \\\n",
      "0   0          37          35000                  RENT                0.0   \n",
      "1   1          22          56000                   OWN                6.0   \n",
      "\n",
      "  loan_intent loan_grade  loan_amnt  loan_int_rate  loan_percent_income  \\\n",
      "0   EDUCATION          B       6000          11.49                 0.17   \n",
      "1     MEDICAL          C       4000          13.35                 0.07   \n",
      "\n",
      "  cb_person_default_on_file  cb_person_cred_hist_length  loan_status  \n",
      "0                         N                          14            0  \n",
      "1                         N                           2            0   \n",
      "\n",
      "Shape is (58645, 13) \n",
      "\n",
      "<class 'pandas.core.frame.DataFrame'>\n",
      "RangeIndex: 58645 entries, 0 to 58644\n",
      "Data columns (total 13 columns):\n",
      " #   Column                      Non-Null Count  Dtype  \n",
      "---  ------                      --------------  -----  \n",
      " 0   id                          58645 non-null  int64  \n",
      " 1   person_age                  58645 non-null  int64  \n",
      " 2   person_income               58645 non-null  int64  \n",
      " 3   person_home_ownership       58645 non-null  object \n",
      " 4   person_emp_length           58645 non-null  float64\n",
      " 5   loan_intent                 58645 non-null  object \n",
      " 6   loan_grade                  58645 non-null  object \n",
      " 7   loan_amnt                   58645 non-null  int64  \n",
      " 8   loan_int_rate               58645 non-null  float64\n",
      " 9   loan_percent_income         58645 non-null  float64\n",
      " 10  cb_person_default_on_file   58645 non-null  object \n",
      " 11  cb_person_cred_hist_length  58645 non-null  int64  \n",
      " 12  loan_status                 58645 non-null  int64  \n",
      "dtypes: float64(3), int64(6), object(4)\n",
      "memory usage: 5.8+ MB\n",
      "None \n",
      "\n"
     ]
    }
   ],
   "source": [
    "print(df_train.head(2),\"\\n\")\n",
    "print(\"Shape is\",df_train.shape,\"\\n\")\n",
    "print(df_train.info(),\"\\n\")"
   ]
  },
  {
   "cell_type": "code",
   "execution_count": 5,
   "id": "9cca2476",
   "metadata": {
    "execution": {
     "iopub.execute_input": "2024-10-02T19:32:51.388052Z",
     "iopub.status.busy": "2024-10-02T19:32:51.387618Z",
     "iopub.status.idle": "2024-10-02T19:32:51.424003Z",
     "shell.execute_reply": "2024-10-02T19:32:51.422798Z"
    },
    "papermill": {
     "duration": 0.054548,
     "end_time": "2024-10-02T19:32:51.427375",
     "exception": false,
     "start_time": "2024-10-02T19:32:51.372827",
     "status": "completed"
    },
    "tags": []
   },
   "outputs": [
    {
     "name": "stdout",
     "output_type": "stream",
     "text": [
      "      id  person_age  person_income person_home_ownership  person_emp_length  \\\n",
      "0  58645          23          69000                  RENT                3.0   \n",
      "1  58646          26          96000              MORTGAGE                6.0   \n",
      "\n",
      "       loan_intent loan_grade  loan_amnt  loan_int_rate  loan_percent_income  \\\n",
      "0  HOMEIMPROVEMENT          F      25000          15.76                 0.36   \n",
      "1         PERSONAL          C      10000          12.68                 0.10   \n",
      "\n",
      "  cb_person_default_on_file  cb_person_cred_hist_length  \n",
      "0                         N                           2  \n",
      "1                         Y                           4  \n",
      "Shape is (39098, 12) \n",
      "\n",
      "<class 'pandas.core.frame.DataFrame'>\n",
      "RangeIndex: 39098 entries, 0 to 39097\n",
      "Data columns (total 12 columns):\n",
      " #   Column                      Non-Null Count  Dtype  \n",
      "---  ------                      --------------  -----  \n",
      " 0   id                          39098 non-null  int64  \n",
      " 1   person_age                  39098 non-null  int64  \n",
      " 2   person_income               39098 non-null  int64  \n",
      " 3   person_home_ownership       39098 non-null  object \n",
      " 4   person_emp_length           39098 non-null  float64\n",
      " 5   loan_intent                 39098 non-null  object \n",
      " 6   loan_grade                  39098 non-null  object \n",
      " 7   loan_amnt                   39098 non-null  int64  \n",
      " 8   loan_int_rate               39098 non-null  float64\n",
      " 9   loan_percent_income         39098 non-null  float64\n",
      " 10  cb_person_default_on_file   39098 non-null  object \n",
      " 11  cb_person_cred_hist_length  39098 non-null  int64  \n",
      "dtypes: float64(3), int64(5), object(4)\n",
      "memory usage: 3.6+ MB\n",
      "None \n",
      "\n"
     ]
    }
   ],
   "source": [
    "print(df_test.head(2))\n",
    "print(\"Shape is\",df_test.shape,\"\\n\")\n",
    "print(df_test.info(),\"\\n\")"
   ]
  },
  {
   "cell_type": "code",
   "execution_count": 6,
   "id": "f7a86968",
   "metadata": {
    "execution": {
     "iopub.execute_input": "2024-10-02T19:32:51.456278Z",
     "iopub.status.busy": "2024-10-02T19:32:51.455821Z",
     "iopub.status.idle": "2024-10-02T19:32:51.512901Z",
     "shell.execute_reply": "2024-10-02T19:32:51.511549Z"
    },
    "papermill": {
     "duration": 0.075179,
     "end_time": "2024-10-02T19:32:51.516023",
     "exception": false,
     "start_time": "2024-10-02T19:32:51.440844",
     "status": "completed"
    },
    "tags": []
   },
   "outputs": [
    {
     "name": "stdout",
     "output_type": "stream",
     "text": [
      "for train dataset \n",
      " id                            0\n",
      "person_age                    0\n",
      "person_income                 0\n",
      "person_home_ownership         0\n",
      "person_emp_length             0\n",
      "loan_intent                   0\n",
      "loan_grade                    0\n",
      "loan_amnt                     0\n",
      "loan_int_rate                 0\n",
      "loan_percent_income           0\n",
      "cb_person_default_on_file     0\n",
      "cb_person_cred_hist_length    0\n",
      "loan_status                   0\n",
      "dtype: int64\n",
      "for test dataset \n",
      " id                            0\n",
      "person_age                    0\n",
      "person_income                 0\n",
      "person_home_ownership         0\n",
      "person_emp_length             0\n",
      "loan_intent                   0\n",
      "loan_grade                    0\n",
      "loan_amnt                     0\n",
      "loan_int_rate                 0\n",
      "loan_percent_income           0\n",
      "cb_person_default_on_file     0\n",
      "cb_person_cred_hist_length    0\n",
      "dtype: int64\n"
     ]
    }
   ],
   "source": [
    "#checking for null values\n",
    "print(\"for train dataset \\n\",df_train.isnull().sum())\n",
    "print(\"for test dataset \\n\",df_test.isnull().sum())"
   ]
  },
  {
   "cell_type": "code",
   "execution_count": 7,
   "id": "bea796aa",
   "metadata": {
    "execution": {
     "iopub.execute_input": "2024-10-02T19:32:51.547571Z",
     "iopub.status.busy": "2024-10-02T19:32:51.547110Z",
     "iopub.status.idle": "2024-10-02T19:32:51.569694Z",
     "shell.execute_reply": "2024-10-02T19:32:51.568511Z"
    },
    "papermill": {
     "duration": 0.041859,
     "end_time": "2024-10-02T19:32:51.572527",
     "exception": false,
     "start_time": "2024-10-02T19:32:51.530668",
     "status": "completed"
    },
    "tags": []
   },
   "outputs": [
    {
     "data": {
      "text/html": [
       "<div>\n",
       "<style scoped>\n",
       "    .dataframe tbody tr th:only-of-type {\n",
       "        vertical-align: middle;\n",
       "    }\n",
       "\n",
       "    .dataframe tbody tr th {\n",
       "        vertical-align: top;\n",
       "    }\n",
       "\n",
       "    .dataframe thead th {\n",
       "        text-align: right;\n",
       "    }\n",
       "</style>\n",
       "<table border=\"1\" class=\"dataframe\">\n",
       "  <thead>\n",
       "    <tr style=\"text-align: right;\">\n",
       "      <th></th>\n",
       "      <th>id</th>\n",
       "      <th>person_age</th>\n",
       "      <th>person_income</th>\n",
       "      <th>person_home_ownership</th>\n",
       "      <th>person_emp_length</th>\n",
       "      <th>loan_intent</th>\n",
       "      <th>loan_grade</th>\n",
       "      <th>loan_amnt</th>\n",
       "      <th>loan_int_rate</th>\n",
       "      <th>loan_percent_income</th>\n",
       "      <th>cb_person_default_on_file</th>\n",
       "      <th>cb_person_cred_hist_length</th>\n",
       "      <th>loan_status</th>\n",
       "    </tr>\n",
       "  </thead>\n",
       "  <tbody>\n",
       "    <tr>\n",
       "      <th>0</th>\n",
       "      <td>0</td>\n",
       "      <td>37</td>\n",
       "      <td>35000</td>\n",
       "      <td>RENT</td>\n",
       "      <td>0.0</td>\n",
       "      <td>EDUCATION</td>\n",
       "      <td>B</td>\n",
       "      <td>6000</td>\n",
       "      <td>11.49</td>\n",
       "      <td>0.17</td>\n",
       "      <td>N</td>\n",
       "      <td>14</td>\n",
       "      <td>0</td>\n",
       "    </tr>\n",
       "    <tr>\n",
       "      <th>1</th>\n",
       "      <td>1</td>\n",
       "      <td>22</td>\n",
       "      <td>56000</td>\n",
       "      <td>OWN</td>\n",
       "      <td>6.0</td>\n",
       "      <td>MEDICAL</td>\n",
       "      <td>C</td>\n",
       "      <td>4000</td>\n",
       "      <td>13.35</td>\n",
       "      <td>0.07</td>\n",
       "      <td>N</td>\n",
       "      <td>2</td>\n",
       "      <td>0</td>\n",
       "    </tr>\n",
       "    <tr>\n",
       "      <th>2</th>\n",
       "      <td>2</td>\n",
       "      <td>29</td>\n",
       "      <td>28800</td>\n",
       "      <td>OWN</td>\n",
       "      <td>8.0</td>\n",
       "      <td>PERSONAL</td>\n",
       "      <td>A</td>\n",
       "      <td>6000</td>\n",
       "      <td>8.90</td>\n",
       "      <td>0.21</td>\n",
       "      <td>N</td>\n",
       "      <td>10</td>\n",
       "      <td>0</td>\n",
       "    </tr>\n",
       "    <tr>\n",
       "      <th>3</th>\n",
       "      <td>3</td>\n",
       "      <td>30</td>\n",
       "      <td>70000</td>\n",
       "      <td>RENT</td>\n",
       "      <td>14.0</td>\n",
       "      <td>VENTURE</td>\n",
       "      <td>B</td>\n",
       "      <td>12000</td>\n",
       "      <td>11.11</td>\n",
       "      <td>0.17</td>\n",
       "      <td>N</td>\n",
       "      <td>5</td>\n",
       "      <td>0</td>\n",
       "    </tr>\n",
       "  </tbody>\n",
       "</table>\n",
       "</div>"
      ],
      "text/plain": [
       "   id  person_age  person_income person_home_ownership  person_emp_length  \\\n",
       "0   0          37          35000                  RENT                0.0   \n",
       "1   1          22          56000                   OWN                6.0   \n",
       "2   2          29          28800                   OWN                8.0   \n",
       "3   3          30          70000                  RENT               14.0   \n",
       "\n",
       "  loan_intent loan_grade  loan_amnt  loan_int_rate  loan_percent_income  \\\n",
       "0   EDUCATION          B       6000          11.49                 0.17   \n",
       "1     MEDICAL          C       4000          13.35                 0.07   \n",
       "2    PERSONAL          A       6000           8.90                 0.21   \n",
       "3     VENTURE          B      12000          11.11                 0.17   \n",
       "\n",
       "  cb_person_default_on_file  cb_person_cred_hist_length  loan_status  \n",
       "0                         N                          14            0  \n",
       "1                         N                           2            0  \n",
       "2                         N                          10            0  \n",
       "3                         N                           5            0  "
      ]
     },
     "execution_count": 7,
     "metadata": {},
     "output_type": "execute_result"
    }
   ],
   "source": [
    "df_train.head(4)"
   ]
  },
  {
   "cell_type": "code",
   "execution_count": 8,
   "id": "720223ce",
   "metadata": {
    "execution": {
     "iopub.execute_input": "2024-10-02T19:32:51.602679Z",
     "iopub.status.busy": "2024-10-02T19:32:51.602218Z",
     "iopub.status.idle": "2024-10-02T19:32:51.630363Z",
     "shell.execute_reply": "2024-10-02T19:32:51.629023Z"
    },
    "papermill": {
     "duration": 0.046592,
     "end_time": "2024-10-02T19:32:51.633226",
     "exception": false,
     "start_time": "2024-10-02T19:32:51.586634",
     "status": "completed"
    },
    "tags": []
   },
   "outputs": [
    {
     "name": "stdout",
     "output_type": "stream",
     "text": [
      "The number of unique value in person_home_ownership is 4\n",
      "The number of unique value in loan_intent is 6\n",
      "The number of unique value in loan_grade is 7\n",
      "The number of unique value in cb_person_default_on_file is 2\n"
     ]
    }
   ],
   "source": [
    "print(\"The number of unique value in person_home_ownership is\",df_train.person_home_ownership.nunique())\n",
    "print(\"The number of unique value in loan_intent is\",df_train.loan_intent.nunique())\n",
    "print(\"The number of unique value in loan_grade is\",df_train.loan_grade.nunique())\n",
    "print(\"The number of unique value in cb_person_default_on_file is\",df_train.cb_person_default_on_file.nunique())\n"
   ]
  },
  {
   "cell_type": "code",
   "execution_count": 9,
   "id": "a144387e",
   "metadata": {
    "execution": {
     "iopub.execute_input": "2024-10-02T19:32:51.663100Z",
     "iopub.status.busy": "2024-10-02T19:32:51.662704Z",
     "iopub.status.idle": "2024-10-02T19:32:52.545013Z",
     "shell.execute_reply": "2024-10-02T19:32:52.543678Z"
    },
    "papermill": {
     "duration": 0.900444,
     "end_time": "2024-10-02T19:32:52.547742",
     "exception": false,
     "start_time": "2024-10-02T19:32:51.647298",
     "status": "completed"
    },
    "tags": []
   },
   "outputs": [
    {
     "name": "stderr",
     "output_type": "stream",
     "text": [
      "/opt/conda/lib/python3.10/site-packages/seaborn/_oldcore.py:1119: FutureWarning: use_inf_as_na option is deprecated and will be removed in a future version. Convert inf values to NaN before operating instead.\n",
      "  with pd.option_context('mode.use_inf_as_na', True):\n"
     ]
    },
    {
     "data": {
      "image/png": "[encoded data removed]",
      "text/plain": [
       "<Figure size 800x600 with 1 Axes>"
      ]
     },
     "metadata": {},
     "output_type": "display_data"
    }
   ],
   "source": [
    "plt.figure(figsize=(8, 6))\n",
    "sns.histplot(data=df_train, x='loan_amnt', kde=True)\n",
    "plt.title('Distribution of Loan Amounts')\n",
    "plt.xlabel('Loan Amount')\n",
    "plt.ylabel('Frequency')\n",
    "plt.show()"
   ]
  },
  {
   "cell_type": "code",
   "execution_count": 10,
   "id": "59ed72bd",
   "metadata": {
    "execution": {
     "iopub.execute_input": "2024-10-02T19:32:52.579323Z",
     "iopub.status.busy": "2024-10-02T19:32:52.578930Z",
     "iopub.status.idle": "2024-10-02T19:32:53.018592Z",
     "shell.execute_reply": "2024-10-02T19:32:53.015038Z"
    },
    "papermill": {
     "duration": 0.459754,
     "end_time": "2024-10-02T19:32:53.022456",
     "exception": false,
     "start_time": "2024-10-02T19:32:52.562702",
     "status": "completed"
    },
    "tags": []
   },
   "outputs": [
    {
     "data": {
      "image/png": "[encoded data removed]",
      "text/plain": [
       "<Figure size 800x600 with 1 Axes>"
      ]
     },
     "metadata": {},
     "output_type": "display_data"
    }
   ],
   "source": [
    "plt.figure(figsize=(8, 6))\n",
    "sns.boxplot(x='loan_grade', y='loan_int_rate', data=df_train)\n",
    "plt.title('Interest Rates by Loan Grade')\n",
    "plt.xlabel('Loan Grade')\n",
    "plt.ylabel('Interest Rate (%)')\n",
    "plt.show()"
   ]
  },
  {
   "cell_type": "code",
   "execution_count": 11,
   "id": "69286632",
   "metadata": {
    "execution": {
     "iopub.execute_input": "2024-10-02T19:32:53.060115Z",
     "iopub.status.busy": "2024-10-02T19:32:53.059724Z",
     "iopub.status.idle": "2024-10-02T19:32:53.595680Z",
     "shell.execute_reply": "2024-10-02T19:32:53.594511Z"
    },
    "papermill": {
     "duration": 0.556536,
     "end_time": "2024-10-02T19:32:53.598647",
     "exception": false,
     "start_time": "2024-10-02T19:32:53.042111",
     "status": "completed"
    },
    "tags": []
   },
   "outputs": [
    {
     "data": {
      "image/png": "[encoded data removed]",
      "text/plain": [
       "<Figure size 800x600 with 1 Axes>"
      ]
     },
     "metadata": {},
     "output_type": "display_data"
    }
   ],
   "source": [
    "plt.figure(figsize=(8, 6))\n",
    "sns.scatterplot(x='person_income', y='loan_amnt', data=df_train)\n",
    "plt.title('Loan Amount vs. Income')\n",
    "plt.xlabel('Person Income')\n",
    "plt.ylabel('Loan Amount')\n",
    "plt.show()"
   ]
  },
  {
   "cell_type": "code",
   "execution_count": 12,
   "id": "a4083f04",
   "metadata": {
    "execution": {
     "iopub.execute_input": "2024-10-02T19:32:53.634134Z",
     "iopub.status.busy": "2024-10-02T19:32:53.633701Z",
     "iopub.status.idle": "2024-10-02T19:32:53.829713Z",
     "shell.execute_reply": "2024-10-02T19:32:53.828359Z"
    },
    "papermill": {
     "duration": 0.21685,
     "end_time": "2024-10-02T19:32:53.832291",
     "exception": false,
     "start_time": "2024-10-02T19:32:53.615441",
     "status": "completed"
    },
    "tags": []
   },
   "outputs": [
    {
     "data": {
      "image/png": "[encoded data removed]",
      "text/plain": [
       "<Figure size 800x600 with 1 Axes>"
      ]
     },
     "metadata": {},
     "output_type": "display_data"
    }
   ],
   "source": [
    "plt.figure(figsize=(8, 6))\n",
    "sns.countplot(x='loan_status', data=df_train)\n",
    "plt.title('Loan Status Distribution')\n",
    "plt.xlabel('Loan Status')\n",
    "plt.ylabel('Count')\n",
    "plt.show()"
   ]
  },
  {
   "cell_type": "code",
   "execution_count": 13,
   "id": "9f67b679",
   "metadata": {
    "execution": {
     "iopub.execute_input": "2024-10-02T19:32:53.868438Z",
     "iopub.status.busy": "2024-10-02T19:32:53.867637Z",
     "iopub.status.idle": "2024-10-02T19:32:53.873013Z",
     "shell.execute_reply": "2024-10-02T19:32:53.871648Z"
    },
    "papermill": {
     "duration": 0.026291,
     "end_time": "2024-10-02T19:32:53.875487",
     "exception": false,
     "start_time": "2024-10-02T19:32:53.849196",
     "status": "completed"
    },
    "tags": []
   },
   "outputs": [],
   "source": [
    "#we need to downsample as dataset is imbalanced"
   ]
  },
  {
   "cell_type": "code",
   "execution_count": 14,
   "id": "6c0bb62d",
   "metadata": {
    "execution": {
     "iopub.execute_input": "2024-10-02T19:32:53.911312Z",
     "iopub.status.busy": "2024-10-02T19:32:53.910893Z",
     "iopub.status.idle": "2024-10-02T19:32:53.937481Z",
     "shell.execute_reply": "2024-10-02T19:32:53.936415Z"
    },
    "papermill": {
     "duration": 0.047896,
     "end_time": "2024-10-02T19:32:53.940202",
     "exception": false,
     "start_time": "2024-10-02T19:32:53.892306",
     "status": "completed"
    },
    "tags": []
   },
   "outputs": [
    {
     "data": {
      "text/plain": [
       "(20350, 13)"
      ]
     },
     "execution_count": 14,
     "metadata": {},
     "output_type": "execute_result"
    }
   ],
   "source": [
    "minorityclass = df_train.loc[df_train.loan_status==1] \n",
    "majorityclass = df_train.loc[df_train.loan_status==0].sample(12000)\n",
    "df = pd.concat([minorityclass,majorityclass])\n",
    "df.shape"
   ]
  },
  {
   "cell_type": "code",
   "execution_count": 15,
   "id": "352ff94e",
   "metadata": {
    "execution": {
     "iopub.execute_input": "2024-10-02T19:32:53.976308Z",
     "iopub.status.busy": "2024-10-02T19:32:53.975898Z",
     "iopub.status.idle": "2024-10-02T19:32:53.981044Z",
     "shell.execute_reply": "2024-10-02T19:32:53.979868Z"
    },
    "papermill": {
     "duration": 0.026251,
     "end_time": "2024-10-02T19:32:53.983586",
     "exception": false,
     "start_time": "2024-10-02T19:32:53.957335",
     "status": "completed"
    },
    "tags": []
   },
   "outputs": [],
   "source": [
    "df=df_train"
   ]
  },
  {
   "cell_type": "code",
   "execution_count": 16,
   "id": "09884347",
   "metadata": {
    "execution": {
     "iopub.execute_input": "2024-10-02T19:32:54.020250Z",
     "iopub.status.busy": "2024-10-02T19:32:54.019823Z",
     "iopub.status.idle": "2024-10-02T19:32:54.088991Z",
     "shell.execute_reply": "2024-10-02T19:32:54.087910Z"
    },
    "papermill": {
     "duration": 0.090713,
     "end_time": "2024-10-02T19:32:54.091488",
     "exception": false,
     "start_time": "2024-10-02T19:32:54.000775",
     "status": "completed"
    },
    "tags": []
   },
   "outputs": [
    {
     "data": {
      "text/html": [
       "<div>\n",
       "<style scoped>\n",
       "    .dataframe tbody tr th:only-of-type {\n",
       "        vertical-align: middle;\n",
       "    }\n",
       "\n",
       "    .dataframe tbody tr th {\n",
       "        vertical-align: top;\n",
       "    }\n",
       "\n",
       "    .dataframe thead th {\n",
       "        text-align: right;\n",
       "    }\n",
       "</style>\n",
       "<table border=\"1\" class=\"dataframe\">\n",
       "  <thead>\n",
       "    <tr style=\"text-align: right;\">\n",
       "      <th></th>\n",
       "      <th>id</th>\n",
       "      <th>person_age</th>\n",
       "      <th>person_income</th>\n",
       "      <th>person_emp_length</th>\n",
       "      <th>loan_amnt</th>\n",
       "      <th>loan_int_rate</th>\n",
       "      <th>loan_percent_income</th>\n",
       "      <th>cb_person_cred_hist_length</th>\n",
       "      <th>loan_status</th>\n",
       "      <th>person_home_ownership_MORTGAGE</th>\n",
       "      <th>...</th>\n",
       "      <th>loan_intent_VENTURE</th>\n",
       "      <th>loan_grade_A</th>\n",
       "      <th>loan_grade_B</th>\n",
       "      <th>loan_grade_C</th>\n",
       "      <th>loan_grade_D</th>\n",
       "      <th>loan_grade_E</th>\n",
       "      <th>loan_grade_F</th>\n",
       "      <th>loan_grade_G</th>\n",
       "      <th>cb_person_default_on_file_N</th>\n",
       "      <th>cb_person_default_on_file_Y</th>\n",
       "    </tr>\n",
       "  </thead>\n",
       "  <tbody>\n",
       "    <tr>\n",
       "      <th>0</th>\n",
       "      <td>0</td>\n",
       "      <td>37</td>\n",
       "      <td>35000</td>\n",
       "      <td>0.0</td>\n",
       "      <td>6000</td>\n",
       "      <td>11.49</td>\n",
       "      <td>0.17</td>\n",
       "      <td>14</td>\n",
       "      <td>0</td>\n",
       "      <td>False</td>\n",
       "      <td>...</td>\n",
       "      <td>False</td>\n",
       "      <td>False</td>\n",
       "      <td>True</td>\n",
       "      <td>False</td>\n",
       "      <td>False</td>\n",
       "      <td>False</td>\n",
       "      <td>False</td>\n",
       "      <td>False</td>\n",
       "      <td>True</td>\n",
       "      <td>False</td>\n",
       "    </tr>\n",
       "    <tr>\n",
       "      <th>1</th>\n",
       "      <td>1</td>\n",
       "      <td>22</td>\n",
       "      <td>56000</td>\n",
       "      <td>6.0</td>\n",
       "      <td>4000</td>\n",
       "      <td>13.35</td>\n",
       "      <td>0.07</td>\n",
       "      <td>2</td>\n",
       "      <td>0</td>\n",
       "      <td>False</td>\n",
       "      <td>...</td>\n",
       "      <td>False</td>\n",
       "      <td>False</td>\n",
       "      <td>False</td>\n",
       "      <td>True</td>\n",
       "      <td>False</td>\n",
       "      <td>False</td>\n",
       "      <td>False</td>\n",
       "      <td>False</td>\n",
       "      <td>True</td>\n",
       "      <td>False</td>\n",
       "    </tr>\n",
       "    <tr>\n",
       "      <th>2</th>\n",
       "      <td>2</td>\n",
       "      <td>29</td>\n",
       "      <td>28800</td>\n",
       "      <td>8.0</td>\n",
       "      <td>6000</td>\n",
       "      <td>8.90</td>\n",
       "      <td>0.21</td>\n",
       "      <td>10</td>\n",
       "      <td>0</td>\n",
       "      <td>False</td>\n",
       "      <td>...</td>\n",
       "      <td>False</td>\n",
       "      <td>True</td>\n",
       "      <td>False</td>\n",
       "      <td>False</td>\n",
       "      <td>False</td>\n",
       "      <td>False</td>\n",
       "      <td>False</td>\n",
       "      <td>False</td>\n",
       "      <td>True</td>\n",
       "      <td>False</td>\n",
       "    </tr>\n",
       "    <tr>\n",
       "      <th>3</th>\n",
       "      <td>3</td>\n",
       "      <td>30</td>\n",
       "      <td>70000</td>\n",
       "      <td>14.0</td>\n",
       "      <td>12000</td>\n",
       "      <td>11.11</td>\n",
       "      <td>0.17</td>\n",
       "      <td>5</td>\n",
       "      <td>0</td>\n",
       "      <td>False</td>\n",
       "      <td>...</td>\n",
       "      <td>True</td>\n",
       "      <td>False</td>\n",
       "      <td>True</td>\n",
       "      <td>False</td>\n",
       "      <td>False</td>\n",
       "      <td>False</td>\n",
       "      <td>False</td>\n",
       "      <td>False</td>\n",
       "      <td>True</td>\n",
       "      <td>False</td>\n",
       "    </tr>\n",
       "  </tbody>\n",
       "</table>\n",
       "<p>4 rows × 28 columns</p>\n",
       "</div>"
      ],
      "text/plain": [
       "   id  person_age  person_income  person_emp_length  loan_amnt  loan_int_rate  \\\n",
       "0   0          37          35000                0.0       6000          11.49   \n",
       "1   1          22          56000                6.0       4000          13.35   \n",
       "2   2          29          28800                8.0       6000           8.90   \n",
       "3   3          30          70000               14.0      12000          11.11   \n",
       "\n",
       "   loan_percent_income  cb_person_cred_hist_length  loan_status  \\\n",
       "0                 0.17                          14            0   \n",
       "1                 0.07                           2            0   \n",
       "2                 0.21                          10            0   \n",
       "3                 0.17                           5            0   \n",
       "\n",
       "   person_home_ownership_MORTGAGE  ...  loan_intent_VENTURE  loan_grade_A  \\\n",
       "0                           False  ...                False         False   \n",
       "1                           False  ...                False         False   \n",
       "2                           False  ...                False          True   \n",
       "3                           False  ...                 True         False   \n",
       "\n",
       "   loan_grade_B  loan_grade_C  loan_grade_D  loan_grade_E  loan_grade_F  \\\n",
       "0          True         False         False         False         False   \n",
       "1         False          True         False         False         False   \n",
       "2         False         False         False         False         False   \n",
       "3          True         False         False         False         False   \n",
       "\n",
       "   loan_grade_G  cb_person_default_on_file_N  cb_person_default_on_file_Y  \n",
       "0         False                         True                        False  \n",
       "1         False                         True                        False  \n",
       "2         False                         True                        False  \n",
       "3         False                         True                        False  \n",
       "\n",
       "[4 rows x 28 columns]"
      ]
     },
     "execution_count": 16,
     "metadata": {},
     "output_type": "execute_result"
    }
   ],
   "source": [
    "#one hot encoding \n",
    "df_encoded = pd.get_dummies(df, columns=['person_home_ownership', 'loan_intent', 'loan_grade', 'cb_person_default_on_file'])\n",
    "df_encoded.head(4)"
   ]
  },
  {
   "cell_type": "code",
   "execution_count": 17,
   "id": "423dbbbb",
   "metadata": {
    "execution": {
     "iopub.execute_input": "2024-10-02T19:32:54.129208Z",
     "iopub.status.busy": "2024-10-02T19:32:54.128809Z",
     "iopub.status.idle": "2024-10-02T19:32:54.145936Z",
     "shell.execute_reply": "2024-10-02T19:32:54.144582Z"
    },
    "papermill": {
     "duration": 0.039459,
     "end_time": "2024-10-02T19:32:54.148709",
     "exception": false,
     "start_time": "2024-10-02T19:32:54.109250",
     "status": "completed"
    },
    "tags": []
   },
   "outputs": [
    {
     "name": "stdout",
     "output_type": "stream",
     "text": [
      "<class 'pandas.core.frame.DataFrame'>\n",
      "RangeIndex: 58645 entries, 0 to 58644\n",
      "Data columns (total 28 columns):\n",
      " #   Column                          Non-Null Count  Dtype  \n",
      "---  ------                          --------------  -----  \n",
      " 0   id                              58645 non-null  int64  \n",
      " 1   person_age                      58645 non-null  int64  \n",
      " 2   person_income                   58645 non-null  int64  \n",
      " 3   person_emp_length               58645 non-null  float64\n",
      " 4   loan_amnt                       58645 non-null  int64  \n",
      " 5   loan_int_rate                   58645 non-null  float64\n",
      " 6   loan_percent_income             58645 non-null  float64\n",
      " 7   cb_person_cred_hist_length      58645 non-null  int64  \n",
      " 8   loan_status                     58645 non-null  int64  \n",
      " 9   person_home_ownership_MORTGAGE  58645 non-null  bool   \n",
      " 10  person_home_ownership_OTHER     58645 non-null  bool   \n",
      " 11  person_home_ownership_OWN       58645 non-null  bool   \n",
      " 12  person_home_ownership_RENT      58645 non-null  bool   \n",
      " 13  loan_intent_DEBTCONSOLIDATION   58645 non-null  bool   \n",
      " 14  loan_intent_EDUCATION           58645 non-null  bool   \n",
      " 15  loan_intent_HOMEIMPROVEMENT     58645 non-null  bool   \n",
      " 16  loan_intent_MEDICAL             58645 non-null  bool   \n",
      " 17  loan_intent_PERSONAL            58645 non-null  bool   \n",
      " 18  loan_intent_VENTURE             58645 non-null  bool   \n",
      " 19  loan_grade_A                    58645 non-null  bool   \n",
      " 20  loan_grade_B                    58645 non-null  bool   \n",
      " 21  loan_grade_C                    58645 non-null  bool   \n",
      " 22  loan_grade_D                    58645 non-null  bool   \n",
      " 23  loan_grade_E                    58645 non-null  bool   \n",
      " 24  loan_grade_F                    58645 non-null  bool   \n",
      " 25  loan_grade_G                    58645 non-null  bool   \n",
      " 26  cb_person_default_on_file_N     58645 non-null  bool   \n",
      " 27  cb_person_default_on_file_Y     58645 non-null  bool   \n",
      "dtypes: bool(19), float64(3), int64(6)\n",
      "memory usage: 5.1 MB\n"
     ]
    }
   ],
   "source": [
    "df_encoded.info()"
   ]
  },
  {
   "cell_type": "code",
   "execution_count": 18,
   "id": "dc7750a0",
   "metadata": {
    "execution": {
     "iopub.execute_input": "2024-10-02T19:32:54.187710Z",
     "iopub.status.busy": "2024-10-02T19:32:54.186593Z",
     "iopub.status.idle": "2024-10-02T19:32:54.205504Z",
     "shell.execute_reply": "2024-10-02T19:32:54.204284Z"
    },
    "papermill": {
     "duration": 0.041289,
     "end_time": "2024-10-02T19:32:54.208429",
     "exception": false,
     "start_time": "2024-10-02T19:32:54.167140",
     "status": "completed"
    },
    "tags": []
   },
   "outputs": [],
   "source": [
    "columnstochng=[\"person_home_ownership_MORTGAGE\",\"person_home_ownership_OTHER\",\"person_home_ownership_OWN\",\"person_home_ownership_RENT\",\"loan_intent_DEBTCONSOLIDATION\",\"loan_intent_EDUCATION\",\"loan_intent_HOMEIMPROVEMENT\",\"loan_intent_MEDICAL\",\"loan_intent_PERSONAL\",\"loan_intent_VENTURE\",\"loan_grade_A\",\"loan_grade_B\",\"loan_grade_C\",\"loan_grade_D\",\"loan_grade_E\",\"loan_grade_F\",\"loan_grade_G\",\"cb_person_default_on_file_N\",\"cb_person_default_on_file_Y\"]\n",
    "for i in columnstochng:\n",
    "    df_encoded[i] = df_encoded[i].astype(int)"
   ]
  },
  {
   "cell_type": "code",
   "execution_count": 19,
   "id": "0eec1878",
   "metadata": {
    "execution": {
     "iopub.execute_input": "2024-10-02T19:32:54.246212Z",
     "iopub.status.busy": "2024-10-02T19:32:54.245823Z",
     "iopub.status.idle": "2024-10-02T19:32:54.264284Z",
     "shell.execute_reply": "2024-10-02T19:32:54.262288Z"
    },
    "papermill": {
     "duration": 0.040556,
     "end_time": "2024-10-02T19:32:54.267070",
     "exception": false,
     "start_time": "2024-10-02T19:32:54.226514",
     "status": "completed"
    },
    "tags": []
   },
   "outputs": [
    {
     "name": "stdout",
     "output_type": "stream",
     "text": [
      "<class 'pandas.core.frame.DataFrame'>\n",
      "RangeIndex: 58645 entries, 0 to 58644\n",
      "Data columns (total 28 columns):\n",
      " #   Column                          Non-Null Count  Dtype  \n",
      "---  ------                          --------------  -----  \n",
      " 0   id                              58645 non-null  int64  \n",
      " 1   person_age                      58645 non-null  int64  \n",
      " 2   person_income                   58645 non-null  int64  \n",
      " 3   person_emp_length               58645 non-null  float64\n",
      " 4   loan_amnt                       58645 non-null  int64  \n",
      " 5   loan_int_rate                   58645 non-null  float64\n",
      " 6   loan_percent_income             58645 non-null  float64\n",
      " 7   cb_person_cred_hist_length      58645 non-null  int64  \n",
      " 8   loan_status                     58645 non-null  int64  \n",
      " 9   person_home_ownership_MORTGAGE  58645 non-null  int64  \n",
      " 10  person_home_ownership_OTHER     58645 non-null  int64  \n",
      " 11  person_home_ownership_OWN       58645 non-null  int64  \n",
      " 12  person_home_ownership_RENT      58645 non-null  int64  \n",
      " 13  loan_intent_DEBTCONSOLIDATION   58645 non-null  int64  \n",
      " 14  loan_intent_EDUCATION           58645 non-null  int64  \n",
      " 15  loan_intent_HOMEIMPROVEMENT     58645 non-null  int64  \n",
      " 16  loan_intent_MEDICAL             58645 non-null  int64  \n",
      " 17  loan_intent_PERSONAL            58645 non-null  int64  \n",
      " 18  loan_intent_VENTURE             58645 non-null  int64  \n",
      " 19  loan_grade_A                    58645 non-null  int64  \n",
      " 20  loan_grade_B                    58645 non-null  int64  \n",
      " 21  loan_grade_C                    58645 non-null  int64  \n",
      " 22  loan_grade_D                    58645 non-null  int64  \n",
      " 23  loan_grade_E                    58645 non-null  int64  \n",
      " 24  loan_grade_F                    58645 non-null  int64  \n",
      " 25  loan_grade_G                    58645 non-null  int64  \n",
      " 26  cb_person_default_on_file_N     58645 non-null  int64  \n",
      " 27  cb_person_default_on_file_Y     58645 non-null  int64  \n",
      "dtypes: float64(3), int64(25)\n",
      "memory usage: 12.5 MB\n"
     ]
    }
   ],
   "source": [
    "df_encoded.info()"
   ]
  },
  {
   "cell_type": "code",
   "execution_count": 20,
   "id": "ffd4f6aa",
   "metadata": {
    "execution": {
     "iopub.execute_input": "2024-10-02T19:32:54.308930Z",
     "iopub.status.busy": "2024-10-02T19:32:54.308104Z",
     "iopub.status.idle": "2024-10-02T19:32:54.365855Z",
     "shell.execute_reply": "2024-10-02T19:32:54.364758Z"
    },
    "papermill": {
     "duration": 0.081822,
     "end_time": "2024-10-02T19:32:54.368616",
     "exception": false,
     "start_time": "2024-10-02T19:32:54.286794",
     "status": "completed"
    },
    "tags": []
   },
   "outputs": [
    {
     "data": {
      "text/html": [
       "<div>\n",
       "<style scoped>\n",
       "    .dataframe tbody tr th:only-of-type {\n",
       "        vertical-align: middle;\n",
       "    }\n",
       "\n",
       "    .dataframe tbody tr th {\n",
       "        vertical-align: top;\n",
       "    }\n",
       "\n",
       "    .dataframe thead th {\n",
       "        text-align: right;\n",
       "    }\n",
       "</style>\n",
       "<table border=\"1\" class=\"dataframe\">\n",
       "  <thead>\n",
       "    <tr style=\"text-align: right;\">\n",
       "      <th></th>\n",
       "      <th>id</th>\n",
       "      <th>person_age</th>\n",
       "      <th>person_income</th>\n",
       "      <th>person_emp_length</th>\n",
       "      <th>loan_amnt</th>\n",
       "      <th>loan_int_rate</th>\n",
       "      <th>loan_percent_income</th>\n",
       "      <th>cb_person_cred_hist_length</th>\n",
       "      <th>person_home_ownership_MORTGAGE</th>\n",
       "      <th>person_home_ownership_OTHER</th>\n",
       "      <th>...</th>\n",
       "      <th>loan_intent_VENTURE</th>\n",
       "      <th>loan_grade_A</th>\n",
       "      <th>loan_grade_B</th>\n",
       "      <th>loan_grade_C</th>\n",
       "      <th>loan_grade_D</th>\n",
       "      <th>loan_grade_E</th>\n",
       "      <th>loan_grade_F</th>\n",
       "      <th>loan_grade_G</th>\n",
       "      <th>cb_person_default_on_file_N</th>\n",
       "      <th>cb_person_default_on_file_Y</th>\n",
       "    </tr>\n",
       "  </thead>\n",
       "  <tbody>\n",
       "    <tr>\n",
       "      <th>0</th>\n",
       "      <td>58645</td>\n",
       "      <td>23</td>\n",
       "      <td>69000</td>\n",
       "      <td>3.0</td>\n",
       "      <td>25000</td>\n",
       "      <td>15.76</td>\n",
       "      <td>0.36</td>\n",
       "      <td>2</td>\n",
       "      <td>False</td>\n",
       "      <td>False</td>\n",
       "      <td>...</td>\n",
       "      <td>False</td>\n",
       "      <td>False</td>\n",
       "      <td>False</td>\n",
       "      <td>False</td>\n",
       "      <td>False</td>\n",
       "      <td>False</td>\n",
       "      <td>True</td>\n",
       "      <td>False</td>\n",
       "      <td>True</td>\n",
       "      <td>False</td>\n",
       "    </tr>\n",
       "    <tr>\n",
       "      <th>1</th>\n",
       "      <td>58646</td>\n",
       "      <td>26</td>\n",
       "      <td>96000</td>\n",
       "      <td>6.0</td>\n",
       "      <td>10000</td>\n",
       "      <td>12.68</td>\n",
       "      <td>0.10</td>\n",
       "      <td>4</td>\n",
       "      <td>True</td>\n",
       "      <td>False</td>\n",
       "      <td>...</td>\n",
       "      <td>False</td>\n",
       "      <td>False</td>\n",
       "      <td>False</td>\n",
       "      <td>True</td>\n",
       "      <td>False</td>\n",
       "      <td>False</td>\n",
       "      <td>False</td>\n",
       "      <td>False</td>\n",
       "      <td>False</td>\n",
       "      <td>True</td>\n",
       "    </tr>\n",
       "    <tr>\n",
       "      <th>2</th>\n",
       "      <td>58647</td>\n",
       "      <td>26</td>\n",
       "      <td>30000</td>\n",
       "      <td>5.0</td>\n",
       "      <td>4000</td>\n",
       "      <td>17.19</td>\n",
       "      <td>0.13</td>\n",
       "      <td>2</td>\n",
       "      <td>False</td>\n",
       "      <td>False</td>\n",
       "      <td>...</td>\n",
       "      <td>True</td>\n",
       "      <td>False</td>\n",
       "      <td>False</td>\n",
       "      <td>False</td>\n",
       "      <td>False</td>\n",
       "      <td>True</td>\n",
       "      <td>False</td>\n",
       "      <td>False</td>\n",
       "      <td>False</td>\n",
       "      <td>True</td>\n",
       "    </tr>\n",
       "    <tr>\n",
       "      <th>3</th>\n",
       "      <td>58648</td>\n",
       "      <td>33</td>\n",
       "      <td>50000</td>\n",
       "      <td>4.0</td>\n",
       "      <td>7000</td>\n",
       "      <td>8.90</td>\n",
       "      <td>0.14</td>\n",
       "      <td>7</td>\n",
       "      <td>False</td>\n",
       "      <td>False</td>\n",
       "      <td>...</td>\n",
       "      <td>False</td>\n",
       "      <td>True</td>\n",
       "      <td>False</td>\n",
       "      <td>False</td>\n",
       "      <td>False</td>\n",
       "      <td>False</td>\n",
       "      <td>False</td>\n",
       "      <td>False</td>\n",
       "      <td>True</td>\n",
       "      <td>False</td>\n",
       "    </tr>\n",
       "  </tbody>\n",
       "</table>\n",
       "<p>4 rows × 27 columns</p>\n",
       "</div>"
      ],
      "text/plain": [
       "      id  person_age  person_income  person_emp_length  loan_amnt  \\\n",
       "0  58645          23          69000                3.0      25000   \n",
       "1  58646          26          96000                6.0      10000   \n",
       "2  58647          26          30000                5.0       4000   \n",
       "3  58648          33          50000                4.0       7000   \n",
       "\n",
       "   loan_int_rate  loan_percent_income  cb_person_cred_hist_length  \\\n",
       "0          15.76                 0.36                           2   \n",
       "1          12.68                 0.10                           4   \n",
       "2          17.19                 0.13                           2   \n",
       "3           8.90                 0.14                           7   \n",
       "\n",
       "   person_home_ownership_MORTGAGE  person_home_ownership_OTHER  ...  \\\n",
       "0                           False                        False  ...   \n",
       "1                            True                        False  ...   \n",
       "2                           False                        False  ...   \n",
       "3                           False                        False  ...   \n",
       "\n",
       "   loan_intent_VENTURE  loan_grade_A  loan_grade_B  loan_grade_C  \\\n",
       "0                False         False         False         False   \n",
       "1                False         False         False          True   \n",
       "2                 True         False         False         False   \n",
       "3                False          True         False         False   \n",
       "\n",
       "   loan_grade_D  loan_grade_E  loan_grade_F  loan_grade_G  \\\n",
       "0         False         False          True         False   \n",
       "1         False         False         False         False   \n",
       "2         False          True         False         False   \n",
       "3         False         False         False         False   \n",
       "\n",
       "   cb_person_default_on_file_N  cb_person_default_on_file_Y  \n",
       "0                         True                        False  \n",
       "1                        False                         True  \n",
       "2                        False                         True  \n",
       "3                         True                        False  \n",
       "\n",
       "[4 rows x 27 columns]"
      ]
     },
     "execution_count": 20,
     "metadata": {},
     "output_type": "execute_result"
    }
   ],
   "source": [
    "#transforming test dataset\n",
    "df_encoded_test = pd.get_dummies(df_test, columns=['person_home_ownership', 'loan_intent', 'loan_grade', 'cb_person_default_on_file'])\n",
    "df_encoded_test.head(4)"
   ]
  },
  {
   "cell_type": "code",
   "execution_count": 21,
   "id": "a8a7474b",
   "metadata": {
    "execution": {
     "iopub.execute_input": "2024-10-02T19:32:54.408473Z",
     "iopub.status.busy": "2024-10-02T19:32:54.408013Z",
     "iopub.status.idle": "2024-10-02T19:32:54.426402Z",
     "shell.execute_reply": "2024-10-02T19:32:54.424393Z"
    },
    "papermill": {
     "duration": 0.041581,
     "end_time": "2024-10-02T19:32:54.429434",
     "exception": false,
     "start_time": "2024-10-02T19:32:54.387853",
     "status": "completed"
    },
    "tags": []
   },
   "outputs": [
    {
     "name": "stdout",
     "output_type": "stream",
     "text": [
      "<class 'pandas.core.frame.DataFrame'>\n",
      "RangeIndex: 39098 entries, 0 to 39097\n",
      "Data columns (total 27 columns):\n",
      " #   Column                          Non-Null Count  Dtype  \n",
      "---  ------                          --------------  -----  \n",
      " 0   id                              39098 non-null  int64  \n",
      " 1   person_age                      39098 non-null  int64  \n",
      " 2   person_income                   39098 non-null  int64  \n",
      " 3   person_emp_length               39098 non-null  float64\n",
      " 4   loan_amnt                       39098 non-null  int64  \n",
      " 5   loan_int_rate                   39098 non-null  float64\n",
      " 6   loan_percent_income             39098 non-null  float64\n",
      " 7   cb_person_cred_hist_length      39098 non-null  int64  \n",
      " 8   person_home_ownership_MORTGAGE  39098 non-null  bool   \n",
      " 9   person_home_ownership_OTHER     39098 non-null  bool   \n",
      " 10  person_home_ownership_OWN       39098 non-null  bool   \n",
      " 11  person_home_ownership_RENT      39098 non-null  bool   \n",
      " 12  loan_intent_DEBTCONSOLIDATION   39098 non-null  bool   \n",
      " 13  loan_intent_EDUCATION           39098 non-null  bool   \n",
      " 14  loan_intent_HOMEIMPROVEMENT     39098 non-null  bool   \n",
      " 15  loan_intent_MEDICAL             39098 non-null  bool   \n",
      " 16  loan_intent_PERSONAL            39098 non-null  bool   \n",
      " 17  loan_intent_VENTURE             39098 non-null  bool   \n",
      " 18  loan_grade_A                    39098 non-null  bool   \n",
      " 19  loan_grade_B                    39098 non-null  bool   \n",
      " 20  loan_grade_C                    39098 non-null  bool   \n",
      " 21  loan_grade_D                    39098 non-null  bool   \n",
      " 22  loan_grade_E                    39098 non-null  bool   \n",
      " 23  loan_grade_F                    39098 non-null  bool   \n",
      " 24  loan_grade_G                    39098 non-null  bool   \n",
      " 25  cb_person_default_on_file_N     39098 non-null  bool   \n",
      " 26  cb_person_default_on_file_Y     39098 non-null  bool   \n",
      "dtypes: bool(19), float64(3), int64(5)\n",
      "memory usage: 3.1 MB\n"
     ]
    }
   ],
   "source": [
    "df_encoded_test.info()"
   ]
  },
  {
   "cell_type": "code",
   "execution_count": 22,
   "id": "2d5c3c2e",
   "metadata": {
    "execution": {
     "iopub.execute_input": "2024-10-02T19:32:54.469151Z",
     "iopub.status.busy": "2024-10-02T19:32:54.468735Z",
     "iopub.status.idle": "2024-10-02T19:32:54.485751Z",
     "shell.execute_reply": "2024-10-02T19:32:54.484438Z"
    },
    "papermill": {
     "duration": 0.040419,
     "end_time": "2024-10-02T19:32:54.488774",
     "exception": false,
     "start_time": "2024-10-02T19:32:54.448355",
     "status": "completed"
    },
    "tags": []
   },
   "outputs": [],
   "source": [
    "columnstochng=[\"person_home_ownership_MORTGAGE\",\"person_home_ownership_OTHER\",\"person_home_ownership_OWN\",\"person_home_ownership_RENT\",\"loan_intent_DEBTCONSOLIDATION\",\"loan_intent_EDUCATION\",\"loan_intent_HOMEIMPROVEMENT\",\"loan_intent_MEDICAL\",\"loan_intent_PERSONAL\",\"loan_intent_VENTURE\",\"loan_grade_A\",\"loan_grade_B\",\"loan_grade_C\",\"loan_grade_D\",\"loan_grade_E\",\"loan_grade_F\",\"loan_grade_G\",\"cb_person_default_on_file_N\",\"cb_person_default_on_file_Y\"]\n",
    "for i in columnstochng:\n",
    "    df_encoded_test[i] = df_encoded_test[i].astype(int)"
   ]
  },
  {
   "cell_type": "code",
   "execution_count": 23,
   "id": "6123ee09",
   "metadata": {
    "execution": {
     "iopub.execute_input": "2024-10-02T19:32:54.528877Z",
     "iopub.status.busy": "2024-10-02T19:32:54.528400Z",
     "iopub.status.idle": "2024-10-02T19:32:54.546341Z",
     "shell.execute_reply": "2024-10-02T19:32:54.544941Z"
    },
    "papermill": {
     "duration": 0.041181,
     "end_time": "2024-10-02T19:32:54.549580",
     "exception": false,
     "start_time": "2024-10-02T19:32:54.508399",
     "status": "completed"
    },
    "tags": []
   },
   "outputs": [
    {
     "name": "stdout",
     "output_type": "stream",
     "text": [
      "<class 'pandas.core.frame.DataFrame'>\n",
      "RangeIndex: 39098 entries, 0 to 39097\n",
      "Data columns (total 27 columns):\n",
      " #   Column                          Non-Null Count  Dtype  \n",
      "---  ------                          --------------  -----  \n",
      " 0   id                              39098 non-null  int64  \n",
      " 1   person_age                      39098 non-null  int64  \n",
      " 2   person_income                   39098 non-null  int64  \n",
      " 3   person_emp_length               39098 non-null  float64\n",
      " 4   loan_amnt                       39098 non-null  int64  \n",
      " 5   loan_int_rate                   39098 non-null  float64\n",
      " 6   loan_percent_income             39098 non-null  float64\n",
      " 7   cb_person_cred_hist_length      39098 non-null  int64  \n",
      " 8   person_home_ownership_MORTGAGE  39098 non-null  int64  \n",
      " 9   person_home_ownership_OTHER     39098 non-null  int64  \n",
      " 10  person_home_ownership_OWN       39098 non-null  int64  \n",
      " 11  person_home_ownership_RENT      39098 non-null  int64  \n",
      " 12  loan_intent_DEBTCONSOLIDATION   39098 non-null  int64  \n",
      " 13  loan_intent_EDUCATION           39098 non-null  int64  \n",
      " 14  loan_intent_HOMEIMPROVEMENT     39098 non-null  int64  \n",
      " 15  loan_intent_MEDICAL             39098 non-null  int64  \n",
      " 16  loan_intent_PERSONAL            39098 non-null  int64  \n",
      " 17  loan_intent_VENTURE             39098 non-null  int64  \n",
      " 18  loan_grade_A                    39098 non-null  int64  \n",
      " 19  loan_grade_B                    39098 non-null  int64  \n",
      " 20  loan_grade_C                    39098 non-null  int64  \n",
      " 21  loan_grade_D                    39098 non-null  int64  \n",
      " 22  loan_grade_E                    39098 non-null  int64  \n",
      " 23  loan_grade_F                    39098 non-null  int64  \n",
      " 24  loan_grade_G                    39098 non-null  int64  \n",
      " 25  cb_person_default_on_file_N     39098 non-null  int64  \n",
      " 26  cb_person_default_on_file_Y     39098 non-null  int64  \n",
      "dtypes: float64(3), int64(24)\n",
      "memory usage: 8.1 MB\n"
     ]
    }
   ],
   "source": [
    "df_encoded_test.info()"
   ]
  },
  {
   "cell_type": "code",
   "execution_count": 24,
   "id": "348396ba",
   "metadata": {
    "execution": {
     "iopub.execute_input": "2024-10-02T19:32:54.591145Z",
     "iopub.status.busy": "2024-10-02T19:32:54.590640Z",
     "iopub.status.idle": "2024-10-02T19:32:54.896600Z",
     "shell.execute_reply": "2024-10-02T19:32:54.895323Z"
    },
    "papermill": {
     "duration": 0.33026,
     "end_time": "2024-10-02T19:32:54.899428",
     "exception": false,
     "start_time": "2024-10-02T19:32:54.569168",
     "status": "completed"
    },
    "tags": []
   },
   "outputs": [],
   "source": [
    "from sklearn.model_selection import train_test_split, RandomizedSearchCV"
   ]
  },
  {
   "cell_type": "code",
   "execution_count": 25,
   "id": "92e7c39e",
   "metadata": {
    "execution": {
     "iopub.execute_input": "2024-10-02T19:32:54.939306Z",
     "iopub.status.busy": "2024-10-02T19:32:54.938910Z",
     "iopub.status.idle": "2024-10-02T19:32:55.022573Z",
     "shell.execute_reply": "2024-10-02T19:32:55.021318Z"
    },
    "papermill": {
     "duration": 0.10627,
     "end_time": "2024-10-02T19:32:55.025041",
     "exception": false,
     "start_time": "2024-10-02T19:32:54.918771",
     "status": "completed"
    },
    "tags": []
   },
   "outputs": [
    {
     "data": {
      "text/html": [
       "<div>\n",
       "<style scoped>\n",
       "    .dataframe tbody tr th:only-of-type {\n",
       "        vertical-align: middle;\n",
       "    }\n",
       "\n",
       "    .dataframe tbody tr th {\n",
       "        vertical-align: top;\n",
       "    }\n",
       "\n",
       "    .dataframe thead th {\n",
       "        text-align: right;\n",
       "    }\n",
       "</style>\n",
       "<table border=\"1\" class=\"dataframe\">\n",
       "  <thead>\n",
       "    <tr style=\"text-align: right;\">\n",
       "      <th></th>\n",
       "      <th>id</th>\n",
       "      <th>person_age</th>\n",
       "      <th>person_income</th>\n",
       "      <th>person_emp_length</th>\n",
       "      <th>loan_amnt</th>\n",
       "      <th>loan_int_rate</th>\n",
       "      <th>loan_percent_income</th>\n",
       "      <th>cb_person_cred_hist_length</th>\n",
       "      <th>loan_status</th>\n",
       "      <th>person_home_ownership_MORTGAGE</th>\n",
       "      <th>...</th>\n",
       "      <th>loan_intent_VENTURE</th>\n",
       "      <th>loan_grade_A</th>\n",
       "      <th>loan_grade_B</th>\n",
       "      <th>loan_grade_C</th>\n",
       "      <th>loan_grade_D</th>\n",
       "      <th>loan_grade_E</th>\n",
       "      <th>loan_grade_F</th>\n",
       "      <th>loan_grade_G</th>\n",
       "      <th>cb_person_default_on_file_N</th>\n",
       "      <th>cb_person_default_on_file_Y</th>\n",
       "    </tr>\n",
       "  </thead>\n",
       "  <tbody>\n",
       "    <tr>\n",
       "      <th>0</th>\n",
       "      <td>0</td>\n",
       "      <td>37</td>\n",
       "      <td>35000</td>\n",
       "      <td>0.0</td>\n",
       "      <td>6000</td>\n",
       "      <td>11.49</td>\n",
       "      <td>0.17</td>\n",
       "      <td>14</td>\n",
       "      <td>0</td>\n",
       "      <td>0</td>\n",
       "      <td>...</td>\n",
       "      <td>0</td>\n",
       "      <td>0</td>\n",
       "      <td>1</td>\n",
       "      <td>0</td>\n",
       "      <td>0</td>\n",
       "      <td>0</td>\n",
       "      <td>0</td>\n",
       "      <td>0</td>\n",
       "      <td>1</td>\n",
       "      <td>0</td>\n",
       "    </tr>\n",
       "    <tr>\n",
       "      <th>1</th>\n",
       "      <td>1</td>\n",
       "      <td>22</td>\n",
       "      <td>56000</td>\n",
       "      <td>6.0</td>\n",
       "      <td>4000</td>\n",
       "      <td>13.35</td>\n",
       "      <td>0.07</td>\n",
       "      <td>2</td>\n",
       "      <td>0</td>\n",
       "      <td>0</td>\n",
       "      <td>...</td>\n",
       "      <td>0</td>\n",
       "      <td>0</td>\n",
       "      <td>0</td>\n",
       "      <td>1</td>\n",
       "      <td>0</td>\n",
       "      <td>0</td>\n",
       "      <td>0</td>\n",
       "      <td>0</td>\n",
       "      <td>1</td>\n",
       "      <td>0</td>\n",
       "    </tr>\n",
       "    <tr>\n",
       "      <th>2</th>\n",
       "      <td>2</td>\n",
       "      <td>29</td>\n",
       "      <td>28800</td>\n",
       "      <td>8.0</td>\n",
       "      <td>6000</td>\n",
       "      <td>8.90</td>\n",
       "      <td>0.21</td>\n",
       "      <td>10</td>\n",
       "      <td>0</td>\n",
       "      <td>0</td>\n",
       "      <td>...</td>\n",
       "      <td>0</td>\n",
       "      <td>1</td>\n",
       "      <td>0</td>\n",
       "      <td>0</td>\n",
       "      <td>0</td>\n",
       "      <td>0</td>\n",
       "      <td>0</td>\n",
       "      <td>0</td>\n",
       "      <td>1</td>\n",
       "      <td>0</td>\n",
       "    </tr>\n",
       "    <tr>\n",
       "      <th>3</th>\n",
       "      <td>3</td>\n",
       "      <td>30</td>\n",
       "      <td>70000</td>\n",
       "      <td>14.0</td>\n",
       "      <td>12000</td>\n",
       "      <td>11.11</td>\n",
       "      <td>0.17</td>\n",
       "      <td>5</td>\n",
       "      <td>0</td>\n",
       "      <td>0</td>\n",
       "      <td>...</td>\n",
       "      <td>1</td>\n",
       "      <td>0</td>\n",
       "      <td>1</td>\n",
       "      <td>0</td>\n",
       "      <td>0</td>\n",
       "      <td>0</td>\n",
       "      <td>0</td>\n",
       "      <td>0</td>\n",
       "      <td>1</td>\n",
       "      <td>0</td>\n",
       "    </tr>\n",
       "    <tr>\n",
       "      <th>4</th>\n",
       "      <td>4</td>\n",
       "      <td>22</td>\n",
       "      <td>60000</td>\n",
       "      <td>2.0</td>\n",
       "      <td>6000</td>\n",
       "      <td>6.92</td>\n",
       "      <td>0.10</td>\n",
       "      <td>3</td>\n",
       "      <td>0</td>\n",
       "      <td>0</td>\n",
       "      <td>...</td>\n",
       "      <td>0</td>\n",
       "      <td>1</td>\n",
       "      <td>0</td>\n",
       "      <td>0</td>\n",
       "      <td>0</td>\n",
       "      <td>0</td>\n",
       "      <td>0</td>\n",
       "      <td>0</td>\n",
       "      <td>1</td>\n",
       "      <td>0</td>\n",
       "    </tr>\n",
       "    <tr>\n",
       "      <th>...</th>\n",
       "      <td>...</td>\n",
       "      <td>...</td>\n",
       "      <td>...</td>\n",
       "      <td>...</td>\n",
       "      <td>...</td>\n",
       "      <td>...</td>\n",
       "      <td>...</td>\n",
       "      <td>...</td>\n",
       "      <td>...</td>\n",
       "      <td>...</td>\n",
       "      <td>...</td>\n",
       "      <td>...</td>\n",
       "      <td>...</td>\n",
       "      <td>...</td>\n",
       "      <td>...</td>\n",
       "      <td>...</td>\n",
       "      <td>...</td>\n",
       "      <td>...</td>\n",
       "      <td>...</td>\n",
       "      <td>...</td>\n",
       "      <td>...</td>\n",
       "    </tr>\n",
       "    <tr>\n",
       "      <th>58640</th>\n",
       "      <td>58640</td>\n",
       "      <td>34</td>\n",
       "      <td>120000</td>\n",
       "      <td>5.0</td>\n",
       "      <td>25000</td>\n",
       "      <td>15.95</td>\n",
       "      <td>0.21</td>\n",
       "      <td>10</td>\n",
       "      <td>0</td>\n",
       "      <td>1</td>\n",
       "      <td>...</td>\n",
       "      <td>0</td>\n",
       "      <td>0</td>\n",
       "      <td>0</td>\n",
       "      <td>0</td>\n",
       "      <td>1</td>\n",
       "      <td>0</td>\n",
       "      <td>0</td>\n",
       "      <td>0</td>\n",
       "      <td>0</td>\n",
       "      <td>1</td>\n",
       "    </tr>\n",
       "    <tr>\n",
       "      <th>58641</th>\n",
       "      <td>58641</td>\n",
       "      <td>28</td>\n",
       "      <td>28800</td>\n",
       "      <td>0.0</td>\n",
       "      <td>10000</td>\n",
       "      <td>12.73</td>\n",
       "      <td>0.35</td>\n",
       "      <td>8</td>\n",
       "      <td>1</td>\n",
       "      <td>0</td>\n",
       "      <td>...</td>\n",
       "      <td>0</td>\n",
       "      <td>0</td>\n",
       "      <td>0</td>\n",
       "      <td>1</td>\n",
       "      <td>0</td>\n",
       "      <td>0</td>\n",
       "      <td>0</td>\n",
       "      <td>0</td>\n",
       "      <td>1</td>\n",
       "      <td>0</td>\n",
       "    </tr>\n",
       "    <tr>\n",
       "      <th>58642</th>\n",
       "      <td>58642</td>\n",
       "      <td>23</td>\n",
       "      <td>44000</td>\n",
       "      <td>7.0</td>\n",
       "      <td>6800</td>\n",
       "      <td>16.00</td>\n",
       "      <td>0.15</td>\n",
       "      <td>2</td>\n",
       "      <td>1</td>\n",
       "      <td>0</td>\n",
       "      <td>...</td>\n",
       "      <td>0</td>\n",
       "      <td>0</td>\n",
       "      <td>0</td>\n",
       "      <td>0</td>\n",
       "      <td>1</td>\n",
       "      <td>0</td>\n",
       "      <td>0</td>\n",
       "      <td>0</td>\n",
       "      <td>1</td>\n",
       "      <td>0</td>\n",
       "    </tr>\n",
       "    <tr>\n",
       "      <th>58643</th>\n",
       "      <td>58643</td>\n",
       "      <td>22</td>\n",
       "      <td>30000</td>\n",
       "      <td>2.0</td>\n",
       "      <td>5000</td>\n",
       "      <td>8.90</td>\n",
       "      <td>0.17</td>\n",
       "      <td>3</td>\n",
       "      <td>0</td>\n",
       "      <td>0</td>\n",
       "      <td>...</td>\n",
       "      <td>0</td>\n",
       "      <td>1</td>\n",
       "      <td>0</td>\n",
       "      <td>0</td>\n",
       "      <td>0</td>\n",
       "      <td>0</td>\n",
       "      <td>0</td>\n",
       "      <td>0</td>\n",
       "      <td>1</td>\n",
       "      <td>0</td>\n",
       "    </tr>\n",
       "    <tr>\n",
       "      <th>58644</th>\n",
       "      <td>58644</td>\n",
       "      <td>31</td>\n",
       "      <td>75000</td>\n",
       "      <td>2.0</td>\n",
       "      <td>15000</td>\n",
       "      <td>11.11</td>\n",
       "      <td>0.20</td>\n",
       "      <td>5</td>\n",
       "      <td>0</td>\n",
       "      <td>1</td>\n",
       "      <td>...</td>\n",
       "      <td>1</td>\n",
       "      <td>0</td>\n",
       "      <td>1</td>\n",
       "      <td>0</td>\n",
       "      <td>0</td>\n",
       "      <td>0</td>\n",
       "      <td>0</td>\n",
       "      <td>0</td>\n",
       "      <td>1</td>\n",
       "      <td>0</td>\n",
       "    </tr>\n",
       "  </tbody>\n",
       "</table>\n",
       "<p>58645 rows × 28 columns</p>\n",
       "</div>"
      ],
      "text/plain": [
       "          id  person_age  person_income  person_emp_length  loan_amnt  \\\n",
       "0          0          37          35000                0.0       6000   \n",
       "1          1          22          56000                6.0       4000   \n",
       "2          2          29          28800                8.0       6000   \n",
       "3          3          30          70000               14.0      12000   \n",
       "4          4          22          60000                2.0       6000   \n",
       "...      ...         ...            ...                ...        ...   \n",
       "58640  58640          34         120000                5.0      25000   \n",
       "58641  58641          28          28800                0.0      10000   \n",
       "58642  58642          23          44000                7.0       6800   \n",
       "58643  58643          22          30000                2.0       5000   \n",
       "58644  58644          31          75000                2.0      15000   \n",
       "\n",
       "       loan_int_rate  loan_percent_income  cb_person_cred_hist_length  \\\n",
       "0              11.49                 0.17                          14   \n",
       "1              13.35                 0.07                           2   \n",
       "2               8.90                 0.21                          10   \n",
       "3              11.11                 0.17                           5   \n",
       "4               6.92                 0.10                           3   \n",
       "...              ...                  ...                         ...   \n",
       "58640          15.95                 0.21                          10   \n",
       "58641          12.73                 0.35                           8   \n",
       "58642          16.00                 0.15                           2   \n",
       "58643           8.90                 0.17                           3   \n",
       "58644          11.11                 0.20                           5   \n",
       "\n",
       "       loan_status  person_home_ownership_MORTGAGE  ...  loan_intent_VENTURE  \\\n",
       "0                0                               0  ...                    0   \n",
       "1                0                               0  ...                    0   \n",
       "2                0                               0  ...                    0   \n",
       "3                0                               0  ...                    1   \n",
       "4                0                               0  ...                    0   \n",
       "...            ...                             ...  ...                  ...   \n",
       "58640            0                               1  ...                    0   \n",
       "58641            1                               0  ...                    0   \n",
       "58642            1                               0  ...                    0   \n",
       "58643            0                               0  ...                    0   \n",
       "58644            0                               1  ...                    1   \n",
       "\n",
       "       loan_grade_A  loan_grade_B  loan_grade_C  loan_grade_D  loan_grade_E  \\\n",
       "0                 0             1             0             0             0   \n",
       "1                 0             0             1             0             0   \n",
       "2                 1             0             0             0             0   \n",
       "3                 0             1             0             0             0   \n",
       "4                 1             0             0             0             0   \n",
       "...             ...           ...           ...           ...           ...   \n",
       "58640             0             0             0             1             0   \n",
       "58641             0             0             1             0             0   \n",
       "58642             0             0             0             1             0   \n",
       "58643             1             0             0             0             0   \n",
       "58644             0             1             0             0             0   \n",
       "\n",
       "       loan_grade_F  loan_grade_G  cb_person_default_on_file_N  \\\n",
       "0                 0             0                            1   \n",
       "1                 0             0                            1   \n",
       "2                 0             0                            1   \n",
       "3                 0             0                            1   \n",
       "4                 0             0                            1   \n",
       "...             ...           ...                          ...   \n",
       "58640             0             0                            0   \n",
       "58641             0             0                            1   \n",
       "58642             0             0                            1   \n",
       "58643             0             0                            1   \n",
       "58644             0             0                            1   \n",
       "\n",
       "       cb_person_default_on_file_Y  \n",
       "0                                0  \n",
       "1                                0  \n",
       "2                                0  \n",
       "3                                0  \n",
       "4                                0  \n",
       "...                            ...  \n",
       "58640                            1  \n",
       "58641                            0  \n",
       "58642                            0  \n",
       "58643                            0  \n",
       "58644                            0  \n",
       "\n",
       "[58645 rows x 28 columns]"
      ]
     },
     "execution_count": 25,
     "metadata": {},
     "output_type": "execute_result"
    }
   ],
   "source": [
    "df_encoded"
   ]
  },
  {
   "cell_type": "code",
   "execution_count": 26,
   "id": "9bd38e36",
   "metadata": {
    "execution": {
     "iopub.execute_input": "2024-10-02T19:32:55.067581Z",
     "iopub.status.busy": "2024-10-02T19:32:55.067130Z",
     "iopub.status.idle": "2024-10-02T19:32:55.086080Z",
     "shell.execute_reply": "2024-10-02T19:32:55.084942Z"
    },
    "papermill": {
     "duration": 0.042611,
     "end_time": "2024-10-02T19:32:55.088928",
     "exception": false,
     "start_time": "2024-10-02T19:32:55.046317",
     "status": "completed"
    },
    "tags": []
   },
   "outputs": [],
   "source": [
    "X=df_encoded.drop([\"loan_status\"],axis=1)\n",
    "y=df_encoded[\"loan_status\"]"
   ]
  },
  {
   "cell_type": "markdown",
   "id": "9737f959",
   "metadata": {
    "papermill": {
     "duration": 0.019114,
     "end_time": "2024-10-02T19:32:55.128806",
     "exception": false,
     "start_time": "2024-10-02T19:32:55.109692",
     "status": "completed"
    },
    "tags": []
   },
   "source": [
    "Model Training"
   ]
  },
  {
   "cell_type": "code",
   "execution_count": 27,
   "id": "eeb7ffb4",
   "metadata": {
    "execution": {
     "iopub.execute_input": "2024-10-02T19:32:55.169775Z",
     "iopub.status.busy": "2024-10-02T19:32:55.169329Z",
     "iopub.status.idle": "2024-10-02T19:32:55.207443Z",
     "shell.execute_reply": "2024-10-02T19:32:55.205991Z"
    },
    "papermill": {
     "duration": 0.061965,
     "end_time": "2024-10-02T19:32:55.210176",
     "exception": false,
     "start_time": "2024-10-02T19:32:55.148211",
     "status": "completed"
    },
    "tags": []
   },
   "outputs": [],
   "source": [
    "X_train,X_test,y_train,y_test=train_test_split(X,y,random_state=42)"
   ]
  },
  {
   "cell_type": "code",
   "execution_count": 28,
   "id": "c962394e",
   "metadata": {
    "execution": {
     "iopub.execute_input": "2024-10-02T19:32:55.251240Z",
     "iopub.status.busy": "2024-10-02T19:32:55.250845Z",
     "iopub.status.idle": "2024-10-02T19:32:55.449828Z",
     "shell.execute_reply": "2024-10-02T19:32:55.448715Z"
    },
    "papermill": {
     "duration": 0.223077,
     "end_time": "2024-10-02T19:32:55.452687",
     "exception": false,
     "start_time": "2024-10-02T19:32:55.229610",
     "status": "completed"
    },
    "tags": []
   },
   "outputs": [],
   "source": [
    "from xgboost import XGBClassifier\n",
    "from sklearn.metrics import accuracy_score\n",
    "from scipy.stats import randint, uniform"
   ]
  },
  {
   "cell_type": "code",
   "execution_count": 29,
   "id": "6ede70a5",
   "metadata": {
    "execution": {
     "iopub.execute_input": "2024-10-02T19:32:55.494079Z",
     "iopub.status.busy": "2024-10-02T19:32:55.493662Z",
     "iopub.status.idle": "2024-10-02T19:32:55.501094Z",
     "shell.execute_reply": "2024-10-02T19:32:55.499745Z"
    },
    "papermill": {
     "duration": 0.030788,
     "end_time": "2024-10-02T19:32:55.503613",
     "exception": false,
     "start_time": "2024-10-02T19:32:55.472825",
     "status": "completed"
    },
    "tags": []
   },
   "outputs": [
    {
     "data": {
      "text/plain": [
       "(43983, 27)"
      ]
     },
     "execution_count": 29,
     "metadata": {},
     "output_type": "execute_result"
    }
   ],
   "source": [
    "X_train.shape"
   ]
  },
  {
   "cell_type": "code",
   "execution_count": 30,
   "id": "58277056",
   "metadata": {
    "execution": {
     "iopub.execute_input": "2024-10-02T19:32:55.545266Z",
     "iopub.status.busy": "2024-10-02T19:32:55.544704Z",
     "iopub.status.idle": "2024-10-02T19:32:56.172551Z",
     "shell.execute_reply": "2024-10-02T19:32:56.171562Z"
    },
    "papermill": {
     "duration": 0.652119,
     "end_time": "2024-10-02T19:32:56.175238",
     "exception": false,
     "start_time": "2024-10-02T19:32:55.523119",
     "status": "completed"
    },
    "tags": []
   },
   "outputs": [
    {
     "name": "stdout",
     "output_type": "stream",
     "text": [
      "Accuracy: 0.95\n"
     ]
    }
   ],
   "source": [
    "model = XGBClassifier()\n",
    "model.fit(X_train, y_train)\n",
    "y_pred = model.predict(X_test)\n",
    "accuracy = accuracy_score(y_test, y_pred)\n",
    "print(f\"Accuracy: {accuracy:.2f}\")"
   ]
  },
  {
   "cell_type": "markdown",
   "id": "9371e400",
   "metadata": {
    "papermill": {
     "duration": 0.019402,
     "end_time": "2024-10-02T19:32:56.214975",
     "exception": false,
     "start_time": "2024-10-02T19:32:56.195573",
     "status": "completed"
    },
    "tags": []
   },
   "source": [
    "Predictions"
   ]
  },
  {
   "cell_type": "code",
   "execution_count": 31,
   "id": "df581630",
   "metadata": {
    "execution": {
     "iopub.execute_input": "2024-10-02T19:32:56.256384Z",
     "iopub.status.busy": "2024-10-02T19:32:56.255946Z",
     "iopub.status.idle": "2024-10-02T19:32:56.316277Z",
     "shell.execute_reply": "2024-10-02T19:32:56.315108Z"
    },
    "papermill": {
     "duration": 0.084772,
     "end_time": "2024-10-02T19:32:56.319680",
     "exception": false,
     "start_time": "2024-10-02T19:32:56.234908",
     "status": "completed"
    },
    "tags": []
   },
   "outputs": [],
   "source": [
    "y_predprob=model.predict_proba(df_encoded_test)"
   ]
  },
  {
   "cell_type": "code",
   "execution_count": 32,
   "id": "687a4729",
   "metadata": {
    "execution": {
     "iopub.execute_input": "2024-10-02T19:32:56.363428Z",
     "iopub.status.busy": "2024-10-02T19:32:56.362992Z",
     "iopub.status.idle": "2024-10-02T19:32:56.371253Z",
     "shell.execute_reply": "2024-10-02T19:32:56.370060Z"
    },
    "papermill": {
     "duration": 0.032052,
     "end_time": "2024-10-02T19:32:56.373829",
     "exception": false,
     "start_time": "2024-10-02T19:32:56.341777",
     "status": "completed"
    },
    "tags": []
   },
   "outputs": [
    {
     "data": {
      "text/plain": [
       "array([[5.1748753e-04, 9.9948251e-01],\n",
       "       [9.6866226e-01, 3.1337749e-02],\n",
       "       [5.8980012e-01, 4.1019991e-01],\n",
       "       ...,\n",
       "       [9.8557317e-01, 1.4426813e-02],\n",
       "       [8.7927747e-01, 1.2072252e-01],\n",
       "       [3.0812562e-02, 9.6918744e-01]], dtype=float32)"
      ]
     },
     "execution_count": 32,
     "metadata": {},
     "output_type": "execute_result"
    }
   ],
   "source": [
    "y_predprob"
   ]
  },
  {
   "cell_type": "code",
   "execution_count": 33,
   "id": "39056e9c",
   "metadata": {
    "execution": {
     "iopub.execute_input": "2024-10-02T19:32:56.415851Z",
     "iopub.status.busy": "2024-10-02T19:32:56.415385Z",
     "iopub.status.idle": "2024-10-02T19:32:56.446103Z",
     "shell.execute_reply": "2024-10-02T19:32:56.444911Z"
    },
    "papermill": {
     "duration": 0.054513,
     "end_time": "2024-10-02T19:32:56.448778",
     "exception": false,
     "start_time": "2024-10-02T19:32:56.394265",
     "status": "completed"
    },
    "tags": []
   },
   "outputs": [
    {
     "data": {
      "text/html": [
       "<div>\n",
       "<style scoped>\n",
       "    .dataframe tbody tr th:only-of-type {\n",
       "        vertical-align: middle;\n",
       "    }\n",
       "\n",
       "    .dataframe tbody tr th {\n",
       "        vertical-align: top;\n",
       "    }\n",
       "\n",
       "    .dataframe thead th {\n",
       "        text-align: right;\n",
       "    }\n",
       "</style>\n",
       "<table border=\"1\" class=\"dataframe\">\n",
       "  <thead>\n",
       "    <tr style=\"text-align: right;\">\n",
       "      <th></th>\n",
       "      <th>id</th>\n",
       "      <th>loan_status</th>\n",
       "    </tr>\n",
       "  </thead>\n",
       "  <tbody>\n",
       "    <tr>\n",
       "      <th>0</th>\n",
       "      <td>58645</td>\n",
       "      <td>0.5</td>\n",
       "    </tr>\n",
       "    <tr>\n",
       "      <th>1</th>\n",
       "      <td>58646</td>\n",
       "      <td>0.5</td>\n",
       "    </tr>\n",
       "    <tr>\n",
       "      <th>2</th>\n",
       "      <td>58647</td>\n",
       "      <td>0.5</td>\n",
       "    </tr>\n",
       "    <tr>\n",
       "      <th>3</th>\n",
       "      <td>58648</td>\n",
       "      <td>0.5</td>\n",
       "    </tr>\n",
       "    <tr>\n",
       "      <th>4</th>\n",
       "      <td>58649</td>\n",
       "      <td>0.5</td>\n",
       "    </tr>\n",
       "  </tbody>\n",
       "</table>\n",
       "</div>"
      ],
      "text/plain": [
       "      id  loan_status\n",
       "0  58645          0.5\n",
       "1  58646          0.5\n",
       "2  58647          0.5\n",
       "3  58648          0.5\n",
       "4  58649          0.5"
      ]
     },
     "execution_count": 33,
     "metadata": {},
     "output_type": "execute_result"
    }
   ],
   "source": [
    "sub=pd.read_csv(\"/kaggle/input/playground-series-s4e10/sample_submission.csv\")\n",
    "sub.head()"
   ]
  },
  {
   "cell_type": "code",
   "execution_count": 34,
   "id": "040aaf79",
   "metadata": {
    "execution": {
     "iopub.execute_input": "2024-10-02T19:32:56.490906Z",
     "iopub.status.busy": "2024-10-02T19:32:56.490134Z",
     "iopub.status.idle": "2024-10-02T19:32:56.503614Z",
     "shell.execute_reply": "2024-10-02T19:32:56.502307Z"
    },
    "papermill": {
     "duration": 0.037389,
     "end_time": "2024-10-02T19:32:56.506244",
     "exception": false,
     "start_time": "2024-10-02T19:32:56.468855",
     "status": "completed"
    },
    "tags": []
   },
   "outputs": [
    {
     "data": {
      "text/html": [
       "<div>\n",
       "<style scoped>\n",
       "    .dataframe tbody tr th:only-of-type {\n",
       "        vertical-align: middle;\n",
       "    }\n",
       "\n",
       "    .dataframe tbody tr th {\n",
       "        vertical-align: top;\n",
       "    }\n",
       "\n",
       "    .dataframe thead th {\n",
       "        text-align: right;\n",
       "    }\n",
       "</style>\n",
       "<table border=\"1\" class=\"dataframe\">\n",
       "  <thead>\n",
       "    <tr style=\"text-align: right;\">\n",
       "      <th></th>\n",
       "      <th>id</th>\n",
       "      <th>loan_status</th>\n",
       "    </tr>\n",
       "  </thead>\n",
       "  <tbody>\n",
       "    <tr>\n",
       "      <th>0</th>\n",
       "      <td>58645</td>\n",
       "      <td>0.999483</td>\n",
       "    </tr>\n",
       "    <tr>\n",
       "      <th>1</th>\n",
       "      <td>58646</td>\n",
       "      <td>0.031338</td>\n",
       "    </tr>\n",
       "    <tr>\n",
       "      <th>2</th>\n",
       "      <td>58647</td>\n",
       "      <td>0.410200</td>\n",
       "    </tr>\n",
       "    <tr>\n",
       "      <th>3</th>\n",
       "      <td>58648</td>\n",
       "      <td>0.007414</td>\n",
       "    </tr>\n",
       "    <tr>\n",
       "      <th>4</th>\n",
       "      <td>58649</td>\n",
       "      <td>0.034801</td>\n",
       "    </tr>\n",
       "    <tr>\n",
       "      <th>...</th>\n",
       "      <td>...</td>\n",
       "      <td>...</td>\n",
       "    </tr>\n",
       "    <tr>\n",
       "      <th>39093</th>\n",
       "      <td>97738</td>\n",
       "      <td>0.029461</td>\n",
       "    </tr>\n",
       "    <tr>\n",
       "      <th>39094</th>\n",
       "      <td>97739</td>\n",
       "      <td>0.001241</td>\n",
       "    </tr>\n",
       "    <tr>\n",
       "      <th>39095</th>\n",
       "      <td>97740</td>\n",
       "      <td>0.014427</td>\n",
       "    </tr>\n",
       "    <tr>\n",
       "      <th>39096</th>\n",
       "      <td>97741</td>\n",
       "      <td>0.120723</td>\n",
       "    </tr>\n",
       "    <tr>\n",
       "      <th>39097</th>\n",
       "      <td>97742</td>\n",
       "      <td>0.969187</td>\n",
       "    </tr>\n",
       "  </tbody>\n",
       "</table>\n",
       "<p>39098 rows × 2 columns</p>\n",
       "</div>"
      ],
      "text/plain": [
       "          id  loan_status\n",
       "0      58645     0.999483\n",
       "1      58646     0.031338\n",
       "2      58647     0.410200\n",
       "3      58648     0.007414\n",
       "4      58649     0.034801\n",
       "...      ...          ...\n",
       "39093  97738     0.029461\n",
       "39094  97739     0.001241\n",
       "39095  97740     0.014427\n",
       "39096  97741     0.120723\n",
       "39097  97742     0.969187\n",
       "\n",
       "[39098 rows x 2 columns]"
      ]
     },
     "execution_count": 34,
     "metadata": {},
     "output_type": "execute_result"
    }
   ],
   "source": [
    "sub['loan_status']=y_predprob[:,1]\n",
    "sub"
   ]
  },
  {
   "cell_type": "code",
   "execution_count": 35,
   "id": "adece1b5",
   "metadata": {
    "execution": {
     "iopub.execute_input": "2024-10-02T19:32:56.549241Z",
     "iopub.status.busy": "2024-10-02T19:32:56.548800Z",
     "iopub.status.idle": "2024-10-02T19:32:56.665273Z",
     "shell.execute_reply": "2024-10-02T19:32:56.664119Z"
    },
    "papermill": {
     "duration": 0.141155,
     "end_time": "2024-10-02T19:32:56.668025",
     "exception": false,
     "start_time": "2024-10-02T19:32:56.526870",
     "status": "completed"
    },
    "tags": []
   },
   "outputs": [],
   "source": [
    "sub.to_csv(\"Submissionv.csv\",index=False)"
   ]
  },
  {
   "cell_type": "code",
   "execution_count": 36,
   "id": "e1aa30f3",
   "metadata": {
    "execution": {
     "iopub.execute_input": "2024-10-02T19:32:56.710453Z",
     "iopub.status.busy": "2024-10-02T19:32:56.710006Z",
     "iopub.status.idle": "2024-10-02T19:32:56.719017Z",
     "shell.execute_reply": "2024-10-02T19:32:56.717780Z"
    },
    "papermill": {
     "duration": 0.033183,
     "end_time": "2024-10-02T19:32:56.721574",
     "exception": false,
     "start_time": "2024-10-02T19:32:56.688391",
     "status": "completed"
    },
    "tags": []
   },
   "outputs": [
    {
     "data": {
      "text/plain": [
       "'xgb_param_grid = {\\n    \\'n_estimators\\': randint(50, 300),\\n    \\'max_depth\\': randint(3, 15),\\n    \\'learning_rate\\': uniform(0.01, 0.3),\\n    \\'subsample\\': uniform(0.5, 0.5),\\n}\\n\\nxgb_model = XGBClassifier(use_label_encoder=False, eval_metric=\\'logloss\\')\\n\\nxgb_random_search = RandomizedSearchCV(estimator=xgb_model,\\n                                       param_distributions=xgb_param_grid,\\n                                       n_iter=100,\\n                                       scoring=\\'accuracy\\',\\n                                       cv=3,\\n                                       random_state=42,\\n                                       n_jobs=-1)\\n\\nxgb_random_search.fit(X_train, y_train)\\nprint(\"Best parameters for XGBoost:\")\\nprint(xgb_random_search.best_params_)\\nxgb_best_model = xgb_random_search.best_estimator_\\nxgb_y_pred = xgb_best_model.predict(X_test)\\nxgb_accuracy = accuracy_score(y_test, xgb_y_pred)\\nprint(f\"XGBoost Accuracy: {xgb_accuracy:.2f}\")\\n'"
      ]
     },
     "execution_count": 36,
     "metadata": {},
     "output_type": "execute_result"
    }
   ],
   "source": [
    "\"\"\"xgb_param_grid = {\n",
    "    'n_estimators': randint(50, 300),\n",
    "    'max_depth': randint(3, 15),\n",
    "    'learning_rate': uniform(0.01, 0.3),\n",
    "    'subsample': uniform(0.5, 0.5),\n",
    "}\n",
    "\n",
    "xgb_model = XGBClassifier(use_label_encoder=False, eval_metric='logloss')\n",
    "\n",
    "xgb_random_search = RandomizedSearchCV(estimator=xgb_model,\n",
    "                                       param_distributions=xgb_param_grid,\n",
    "                                       n_iter=100,\n",
    "                                       scoring='accuracy',\n",
    "                                       cv=3,\n",
    "                                       random_state=42,\n",
    "                                       n_jobs=-1)\n",
    "\n",
    "xgb_random_search.fit(X_train, y_train)\n",
    "print(\"Best parameters for XGBoost:\")\n",
    "print(xgb_random_search.best_params_)\n",
    "xgb_best_model = xgb_random_search.best_estimator_\n",
    "xgb_y_pred = xgb_best_model.predict(X_test)\n",
    "xgb_accuracy = accuracy_score(y_test, xgb_y_pred)\n",
    "print(f\"XGBoost Accuracy: {xgb_accuracy:.2f}\")\n",
    "\"\"\"\n"
   ]
  },
  {
   "cell_type": "code",
   "execution_count": 37,
   "id": "4a4c307a",
   "metadata": {
    "execution": {
     "iopub.execute_input": "2024-10-02T19:32:56.765239Z",
     "iopub.status.busy": "2024-10-02T19:32:56.764799Z",
     "iopub.status.idle": "2024-10-02T19:32:56.771765Z",
     "shell.execute_reply": "2024-10-02T19:32:56.770739Z"
    },
    "papermill": {
     "duration": 0.031274,
     "end_time": "2024-10-02T19:32:56.774150",
     "exception": false,
     "start_time": "2024-10-02T19:32:56.742876",
     "status": "completed"
    },
    "tags": []
   },
   "outputs": [
    {
     "data": {
      "text/plain": [
       "'from sklearn.ensemble import RandomForestClassifier\\nrf_model = RandomForestClassifier(n_estimators=100, random_state=42)\\nrf_model.fit(X_train, y_train)\\ny_pred = rf_model.predict(X_test)\\naccuracy = accuracy_score(y_test, y_pred)\\nprint(f\"Accuracy: {accuracy:.2f}\")'"
      ]
     },
     "execution_count": 37,
     "metadata": {},
     "output_type": "execute_result"
    }
   ],
   "source": [
    "\"\"\"from sklearn.ensemble import RandomForestClassifier\n",
    "rf_model = RandomForestClassifier(n_estimators=100, random_state=42)\n",
    "rf_model.fit(X_train, y_train)\n",
    "y_pred = rf_model.predict(X_test)\n",
    "accuracy = accuracy_score(y_test, y_pred)\n",
    "print(f\"Accuracy: {accuracy:.2f}\")\"\"\""
   ]
  },
  {
   "cell_type": "code",
   "execution_count": 38,
   "id": "29a636d5",
   "metadata": {
    "execution": {
     "iopub.execute_input": "2024-10-02T19:32:56.817271Z",
     "iopub.status.busy": "2024-10-02T19:32:56.816820Z",
     "iopub.status.idle": "2024-10-02T19:32:56.825780Z",
     "shell.execute_reply": "2024-10-02T19:32:56.824227Z"
    },
    "papermill": {
     "duration": 0.033813,
     "end_time": "2024-10-02T19:32:56.828412",
     "exception": false,
     "start_time": "2024-10-02T19:32:56.794599",
     "status": "completed"
    },
    "tags": []
   },
   "outputs": [
    {
     "data": {
      "text/plain": [
       "'rf_param_grid = {\\n    \\'n_estimators\\': randint(50, 300),\\n    \\'max_depth\\': randint(3, 15),\\n    \\'min_samples_split\\': randint(2, 10),\\n    \\'min_samples_leaf\\': randint(1, 10),\\n    \\'max_features\\': [\\'sqrt\\', \\'log2\\']\\n}\\n\\nrf_model = RandomForestClassifier(random_state=42,verbose=1)\\n\\nrf_random_search = RandomizedSearchCV(estimator=rf_model,\\n                                       param_distributions=rf_param_grid,\\n                                       n_iter=100,\\n                                       scoring=\\'accuracy\\',\\n                                       cv=3,\\n                                       random_state=42,\\n                                       n_jobs=-1)\\n\\nrf_random_search.fit(X_train, y_train)\\nprint(\"\\nBest parameters for Random Forest:\")\\nprint(rf_random_search.best_params_)\\nrf_best_model = rf_random_search.best_estimator_\\nrf_y_pred = rf_best_model.predict(X_test)\\nrf_accuracy = accuracy_score(y_test, rf_y_pred)\\nprint(f\"Random Forest Accuracy: {rf_accuracy:.2f}\")'"
      ]
     },
     "execution_count": 38,
     "metadata": {},
     "output_type": "execute_result"
    }
   ],
   "source": [
    "\"\"\"rf_param_grid = {\n",
    "    'n_estimators': randint(50, 300),\n",
    "    'max_depth': randint(3, 15),\n",
    "    'min_samples_split': randint(2, 10),\n",
    "    'min_samples_leaf': randint(1, 10),\n",
    "    'max_features': ['sqrt', 'log2']\n",
    "}\n",
    "\n",
    "rf_model = RandomForestClassifier(random_state=42,verbose=1)\n",
    "\n",
    "rf_random_search = RandomizedSearchCV(estimator=rf_model,\n",
    "                                       param_distributions=rf_param_grid,\n",
    "                                       n_iter=100,\n",
    "                                       scoring='accuracy',\n",
    "                                       cv=3,\n",
    "                                       random_state=42,\n",
    "                                       n_jobs=-1)\n",
    "\n",
    "rf_random_search.fit(X_train, y_train)\n",
    "print(\"\\nBest parameters for Random Forest:\")\n",
    "print(rf_random_search.best_params_)\n",
    "rf_best_model = rf_random_search.best_estimator_\n",
    "rf_y_pred = rf_best_model.predict(X_test)\n",
    "rf_accuracy = accuracy_score(y_test, rf_y_pred)\n",
    "print(f\"Random Forest Accuracy: {rf_accuracy:.2f}\")\"\"\""
   ]
  },
  {
   "cell_type": "code",
   "execution_count": null,
   "id": "20570b38",
   "metadata": {
    "papermill": {
     "duration": 0.020696,
     "end_time": "2024-10-02T19:32:56.870735",
     "exception": false,
     "start_time": "2024-10-02T19:32:56.850039",
     "status": "completed"
    },
    "tags": []
   },
   "outputs": [],
   "source": []
  }
 ],
 "metadata": {
  "kaggle": {
   "accelerator": "none",
   "dataSources": [
    {
     "databundleVersionId": 9709193,
     "sourceId": 84894,
     "sourceType": "competition"
    }
   ],
   "dockerImageVersionId": 30775,
   "isGpuEnabled": false,
   "isInternetEnabled": true,
   "language": "python",
   "sourceType": "notebook"
  },
  "kernelspec": {
   "display_name": "Python 3",
   "language": "python",
   "name": "python3"
  },
  "language_info": {
   "codemirror_mode": {
    "name": "ipython",
    "version": 3
   },
   "file_extension": ".py",
   "mimetype": "text/x-python",
   "name": "python",
   "nbconvert_exporter": "python",
   "pygments_lexer": "ipython3",
   "version": "3.10.14"
  },
  "papermill": {
   "default_parameters": {},
   "duration": 12.991122,
   "end_time": "2024-10-02T19:32:57.616681",
   "environment_variables": {},
   "exception": null,
   "input_path": "__notebook__.ipynb",
   "output_path": "__notebook__.ipynb",
   "parameters": {},
   "start_time": "2024-10-02T19:32:44.625559",
   "version": "2.6.0"
  }
 },
 "nbformat": 4,
 "nbformat_minor": 5
}
